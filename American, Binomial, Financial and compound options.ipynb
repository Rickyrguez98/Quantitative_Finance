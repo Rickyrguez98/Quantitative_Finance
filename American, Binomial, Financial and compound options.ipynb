{
 "cells": [
  {
   "cell_type": "code",
   "execution_count": 1,
   "id": "245364e5",
   "metadata": {},
   "outputs": [],
   "source": [
    "import numpy as np\n",
    "import pandas as pd\n",
    "import scipy.stats as st\n",
    "import sympy as sy\n",
    "from sympy.stats import Normal, cdf\n",
    "from scipy.stats import multivariate_normal as mvn\n",
    "from scipy.optimize import minimize\n"
   ]
  },
  {
   "cell_type": "code",
   "execution_count": 2,
   "id": "c2f2c8ab",
   "metadata": {},
   "outputs": [],
   "source": [
    "def binomialPut(St, K,r, sigma, T,n):\n",
    "    dt=T/n\n",
    "    u= np.exp(sigma*np.sqrt(dt))\n",
    "    d=1/u\n",
    "    p= (np.exp(r*dt)-d)/(u-d)\n",
    "    \n",
    "    #Final stock price and option\n",
    "    Stock=(St*np.ones(n+1)*u**n)*(np.power(d*np.ones(n+1),np.arange(0,2*(n+1),2)))\n",
    "    Optionvalue = np.maximum(K*np.ones(n+1) - Stock,0)\n",
    "    \n",
    "    for i in range(n,0,-1):\n",
    "        Optionvalue = np.exp(-r*dt)*(p*Optionvalue[0:i]+(1-p)*Optionvalue[1:])\n",
    "    return Optionvalue[0]\n",
    "\n",
    "def americanPut(St, K,r, sigma, T,n):\n",
    "    dt=T/n\n",
    "    u= np.exp(sigma*np.sqrt(dt))\n",
    "    d=1/u\n",
    "    p= (np.exp(r*dt)-d)/(u-d)\n",
    "    \n",
    "    #Final stock price and option\n",
    "    Stock=(St*np.ones(n+1)*u**n)*(np.power(d*np.ones(n+1),np.arange(0,2*(n+1),2)))\n",
    "    Optionvalue = np.maximum(K*np.ones(n+1) - Stock,0)\n",
    "    \n",
    "    for i in range(n,0,-1):\n",
    "        F1 = np.exp(-r*dt)*(p*Optionvalue[0:i]+(1-p)*Optionvalue[1:])\n",
    "        F2 = np.maximum(K*np.ones(i)-(St*np.ones(i)*u**(i-1))*(np.power(d*np.ones(i),np.arange(0,2*(i),2))),0)\n",
    "        Optionvalue = np.maximum(F1,F2)\n",
    "    return Optionvalue[0]"
   ]
  },
  {
   "cell_type": "code",
   "execution_count": 3,
   "id": "4cde2b69",
   "metadata": {},
   "outputs": [],
   "source": [
    "def binomialCall(St, K,r, sigma, T,n):\n",
    "    dt=T/n\n",
    "    u= np.exp(sigma*np.sqrt(dt))\n",
    "    d=1/u\n",
    "    p= (np.exp(r*dt)-d)/(u-d)\n",
    "    \n",
    "    #Final stock price and option\n",
    "    Stock=(St*np.ones(n+1)*u**n)*(np.power(d*np.ones(n+1),np.arange(0,2*(n+1),2)))\n",
    "    Optionvalue = np.maximum(Stock -K*np.ones(n+1),0)\n",
    "    \n",
    "    for i in range(n,0,-1):\n",
    "        Optionvalue = np.exp(-r*dt)*(p*Optionvalue[0:i]+(1-p)*Optionvalue[1:])\n",
    "    return Optionvalue[0]\n",
    "\n",
    "def americanCall(St, K,r, sigma, T,n):\n",
    "    dt=T/n\n",
    "    u= np.exp(sigma*np.sqrt(dt))\n",
    "    d=1/u\n",
    "    p= (np.exp(r*dt)-d)/(u-d)\n",
    "    \n",
    "    #Final stock price and option\n",
    "    Stock=(St*np.ones(n+1)*u**n)*(np.power(d*np.ones(n+1),np.arange(0,2*(n+1),2)))\n",
    "    Optionvalue = np.maximum(Stock -K*np.ones(n+1),0)\n",
    "    \n",
    "    for i in range(n,0,-1):\n",
    "        F1 = np.exp(-r*dt)*(p*Optionvalue[0:i]+(1-p)*Optionvalue[1:])\n",
    "        F2 = np.maximum((St*np.ones(i)*u**(i-1))*(np.power(d*np.ones(i),np.arange(0,2*(i),2))) -K*np.ones(i),0)\n",
    "        Optionvalue = np.maximum(F1,F2)\n",
    "    return Optionvalue[0]"
   ]
  },
  {
   "cell_type": "code",
   "execution_count": 4,
   "id": "95e28c99",
   "metadata": {},
   "outputs": [],
   "source": [
    "d1 = lambda St, K,r, sigma, T,t: (np.log(St/K)+(r+0.5*sigma**2)*(T-t))/(sigma*np.sqrt(T-t))\n",
    "d2 = lambda St, K,r, sigma, T,t: (np.log(St/K)+(r-0.5*sigma**2)*(T-t))/(sigma*np.sqrt(T-t))\n",
    "PutBS = lambda St, K,r, sigma, T,t:K*np.exp(-r*(T-t))*st.norm.cdf(-d2(St,K,r,sigma,T,t)) -St*st.norm.cdf(-d1(St,K,r,sigma,T,t))\n",
    "CallBS = lambda St, K,r, sigma, T,t:St*st.norm.cdf(d1(St,K,r,sigma,T,t)) - K*np.exp(-r*(T-t))*st.norm.cdf(d2(St,K,r,sigma,T,t))"
   ]
  },
  {
   "cell_type": "code",
   "execution_count": 5,
   "id": "3a6c3d33",
   "metadata": {},
   "outputs": [],
   "source": [
    "def SOptCall(S,X1,X2,T1,T2,r,sigma):\n",
    "    tau = T2-T1\n",
    "    bounds = [[0,None]]\n",
    "    apply_constraint1 = lambda S: CallBS(S,X2,r,sigma,tau,0)-X1\n",
    "    my_constraints = ({'type':'eq', 'fun':apply_constraint1})\n",
    "    a = minimize(CallBS,S,bounds = bounds, constraints = my_constraints, method = 'SLSQP', args = (X2,r,sigma,tau,0))\n",
    "    return a.x[0]\n",
    "\n",
    "def SOptPut(S,X1,X2,T1,T2,r,sigma):\n",
    "    tau = T2-T1\n",
    "    bounds = [[0,None]]\n",
    "    apply_constraint1 = lambda S: PutBS(S,X2,r,sigma,tau,0)-X1\n",
    "    my_constraints = ({'type':'eq', 'fun':apply_constraint1})\n",
    "    a = minimize(PutBS,S,bounds = bounds, constraints = my_constraints, method = 'SLSQP', args = (X2,r,sigma,tau,0))\n",
    "    return a.x[0]"
   ]
  },
  {
   "cell_type": "code",
   "execution_count": 6,
   "id": "27b84088",
   "metadata": {},
   "outputs": [
    {
     "data": {
      "text/plain": [
       "(131.24079333624655, 58.12926618165923)"
      ]
     },
     "execution_count": 6,
     "metadata": {},
     "output_type": "execute_result"
    }
   ],
   "source": [
    "St=500\n",
    "K=700\n",
    "T=2\n",
    "sigma=.30\n",
    "r=.10\n",
    "n=20\n",
    "PutBS(St,K,r,sigma,T,0),CallBS(St,K,r,sigma,T,0)"
   ]
  },
  {
   "cell_type": "code",
   "execution_count": 7,
   "id": "81163882",
   "metadata": {},
   "outputs": [
    {
     "data": {
      "text/plain": [
       "(200.0, 57.85326542408653)"
      ]
     },
     "execution_count": 7,
     "metadata": {},
     "output_type": "execute_result"
    }
   ],
   "source": [
    "americanPut(St, K,r, sigma, T,n),americanCall(St, K,r, sigma, T,n)"
   ]
  },
  {
   "cell_type": "code",
   "execution_count": 8,
   "id": "4316f5b8",
   "metadata": {},
   "outputs": [],
   "source": [
    "def Call_call(S,X1,X2,T1,T2,r,sigma):\n",
    "    SOpt = SOptCall(S,X1,X2,T1,T2,r,sigma)\n",
    "    D1 = (np.log(S/SOpt)+(r+0.5*sigma**2)*(T1))/(sigma*np.sqrt(T1))\n",
    "    D2 = (np.log(S/SOpt)+(r-0.5*sigma**2)*(T1))/(sigma*np.sqrt(T1))\n",
    "    E1 = (np.log(S/X2)+(r+0.5*sigma**2)*(T2))/(sigma*np.sqrt(T2))\n",
    "    E2 = (np.log(S/X2)+(r-0.5*sigma**2)*(T2))/(sigma*np.sqrt(T2))\n",
    "    Corr = np.sqrt(T1/T2)\n",
    "    dist = mvn(mean = np.array([0,0]), cov = np.array([[1,Corr],[Corr,1]]))\n",
    "    N2_D1E1 = dist.cdf(np.array([D1,E1]))\n",
    "    N2_D2E2 = dist.cdf(np.array([D2,E2]))\n",
    "    ND2 = st.norm.cdf(D2, 0,1)\n",
    "    return S*N2_D1E1-X2*np.exp(-r*T2)*N2_D2E2 -X1*np.exp(-r*T1)*ND2\n",
    "\n",
    "def Call_put(S,X1,X2,T1,T2,r,sigma):\n",
    "    SOpt = SOptPut(S,X1,X2,T1,T2,r,sigma)\n",
    "    D1 = (np.log(S/SOpt)+(r+0.5*sigma**2)*(T1))/(sigma*np.sqrt(T1))\n",
    "    D2 = (np.log(S/SOpt)+(r-0.5*sigma**2)*(T1))/(sigma*np.sqrt(T1))\n",
    "    E1 = (np.log(S/X2)+(r+0.5*sigma**2)*(T2))/(sigma*np.sqrt(T2))\n",
    "    E2 = (np.log(S/X2)+(r-0.5*sigma**2)*(T2))/(sigma*np.sqrt(T2))\n",
    "    Corr = np.sqrt(T1/T2)\n",
    "    dist = mvn(mean = np.array([0,0]), cov = np.array([[1,Corr],[Corr,1]]))\n",
    "    N2_D1E1 = dist.cdf(np.array([-D1,-E1]))\n",
    "    N2_D2E2 = dist.cdf(np.array([-D2,-E2]))\n",
    "    ND2 = st.norm.cdf(-D2, 0,1)\n",
    "    return -S*N2_D1E1+X2*np.exp(-r*T2)*N2_D2E2 -X1*np.exp(-r*T1)*ND2\n",
    "\n",
    "def Put_call(S,X1,X2,T1,T2,r,sigma):\n",
    "    SOpt = SOptCall(S,X1,X2,T1,T2,r,sigma)\n",
    "    D1 = (np.log(S/SOpt)+(r+0.5*sigma**2)*(T1))/(sigma*np.sqrt(T1))\n",
    "    D2 = (np.log(S/SOpt)+(r-0.5*sigma**2)*(T1))/(sigma*np.sqrt(T1))\n",
    "    E1 = (np.log(S/X2)+(r+0.5*sigma**2)*(T2))/(sigma*np.sqrt(T2))\n",
    "    E2 = (np.log(S/X2)+(r-0.5*sigma**2)*(T2))/(sigma*np.sqrt(T2))\n",
    "    Corr = np.sqrt(T1/T2)\n",
    "    dist = mvn(mean = np.array([0,0]), cov = np.array([[1,Corr],[Corr,1]]))\n",
    "    N2_D1E1 = dist.cdf(np.array([-D1,E1]))\n",
    "    N2_D2E2 = dist.cdf(np.array([-D2,E2]))\n",
    "    ND2 = st.norm.cdf(-D2, 0,1)\n",
    "    return -S*N2_D1E1+X2*np.exp(-r*T2)*N2_D2E2 +X1*np.exp(-r*T1)*ND2\n",
    "\n",
    "def Put_put(S,X1,X2,T1,T2,r,sigma):\n",
    "    SOpt = SOptPut(S,X1,X2,T1,T2,r,sigma)\n",
    "    D1 = (np.log(S/SOpt)+(r+0.5*sigma**2)*(T1))/(sigma*np.sqrt(T1))\n",
    "    D2 = (np.log(S/SOpt)+(r-0.5*sigma**2)*(T1))/(sigma*np.sqrt(T1))\n",
    "    E1 = (np.log(S/X2)+(r+0.5*sigma**2)*(T2))/(sigma*np.sqrt(T2))\n",
    "    E2 = (np.log(S/X2)+(r-0.5*sigma**2)*(T2))/(sigma*np.sqrt(T2))\n",
    "    Corr = np.sqrt(T1/T2)\n",
    "    dist = mvn(mean = np.array([0,0]), cov = np.array([[1,Corr],[Corr,1]]))\n",
    "    N2_D1E1 = dist.cdf(np.array([D1,-E1]))\n",
    "    N2_D2E2 = dist.cdf(np.array([D2,-E2]))\n",
    "    ND2 = st.norm.cdf(D2, 0,1)\n",
    "    return S*N2_D1E1-X2*np.exp(-r*T2)*N2_D2E2 +X1*np.exp(-r*T1)*ND2"
   ]
  },
  {
   "cell_type": "code",
   "execution_count": 12,
   "id": "59526ddf",
   "metadata": {},
   "outputs": [],
   "source": [
    "T1,T2 = 0.5,2\n",
    "r = 0.1\n",
    "sigma = 0.3\n",
    "X1 = 100\n",
    "X2 = 200\n",
    "tau = T2-T1\n",
    "S = 200"
   ]
  },
  {
   "cell_type": "code",
   "execution_count": 15,
   "id": "903427c1",
   "metadata": {},
   "outputs": [
    {
     "data": {
      "text/plain": [
       "(64.92224573148437, 34.58910063167396)"
      ]
     },
     "execution_count": 15,
     "metadata": {},
     "output_type": "execute_result"
    }
   ],
   "source": [
    "Call_call(S,X1,X2,T1,T2,r,sigma),Call_put(S,X1,X2,T1,T2,r,sigma)"
   ]
  },
  {
   "cell_type": "code",
   "execution_count": 11,
   "id": "fc7b8e57",
   "metadata": {},
   "outputs": [
    {
     "data": {
      "text/plain": [
       "(23.953064175568652, 7.822658890325748)"
      ]
     },
     "execution_count": 11,
     "metadata": {},
     "output_type": "execute_result"
    }
   ],
   "source": [
    "Put_call(S,X1,X2,T1,T2,r,sigma),Put_put(S,X1,X2,T1,T2,r,sigma)"
   ]
  }
 ],
 "metadata": {
  "kernelspec": {
   "display_name": "Python 3 (ipykernel)",
   "language": "python",
   "name": "python3"
  },
  "language_info": {
   "codemirror_mode": {
    "name": "ipython",
    "version": 3
   },
   "file_extension": ".py",
   "mimetype": "text/x-python",
   "name": "python",
   "nbconvert_exporter": "python",
   "pygments_lexer": "ipython3",
   "version": "3.9.12"
  }
 },
 "nbformat": 4,
 "nbformat_minor": 5
}
